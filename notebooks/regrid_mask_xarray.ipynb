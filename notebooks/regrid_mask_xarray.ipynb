{
 "cells": [
  {
   "cell_type": "code",
   "execution_count": 20,
   "metadata": {},
   "outputs": [
    {
     "name": "stdout",
     "output_type": "stream",
     "text": [
      "Warning: Cannot change to a different GUI toolkit: notebook. Using qt instead.\n"
     ]
    }
   ],
   "source": [
    "#%pylab inline\n",
    "%matplotlib notebook"
   ]
  },
  {
   "cell_type": "code",
   "execution_count": 21,
   "metadata": {},
   "outputs": [],
   "source": [
    "import xarray as xr\n",
    "import matplotlib.pyplot as plt\n",
    "import os\n",
    "import re"
   ]
  },
  {
   "cell_type": "markdown",
   "metadata": {},
   "source": [
    "## Get Mask"
   ]
  },
  {
   "cell_type": "code",
   "execution_count": 22,
   "metadata": {},
   "outputs": [
    {
     "data": {
      "text/plain": [
       "<xarray.Dataset>\n",
       "Dimensions:      (lat: 180, lon: 360)\n",
       "Coordinates:\n",
       "  * lat          (lat) float32 -89.5 -88.5 -87.5 -86.5 -85.5 -84.5 -83.5 ...\n",
       "  * lon          (lon) float32 0.5 1.5 2.5 3.5 4.5 5.5 6.5 7.5 8.5 9.5 10.5 ...\n",
       "Data variables:\n",
       "    arctic_mask  (lat, lon) int8 ...\n",
       "Attributes:\n",
       "    creation_date:  Thu Apr 15 17:39:34 2010\n",
       "    created_by:     Andrew P. Barrett\n",
       "    Description:    Arctic land and ocean mask, and global land and ocean mask\n",
       "    Source:         Original Arctic drainage and ocean mask was RIMS Budgetee..."
      ]
     },
     "execution_count": 22,
     "metadata": {},
     "output_type": "execute_result"
    }
   ],
   "source": [
    "diri = r'C:\\Users\\apbarret\\Documents\\data\\ancillary'\n",
    "maskFile = r'arctic_mask_1x1deg.nc'\n",
    "maskIn = xr.open_dataset(os.path.join(diri, maskFile))\n",
    "maskIn"
   ]
  },
  {
   "cell_type": "code",
   "execution_count": 24,
   "metadata": {},
   "outputs": [],
   "source": [
    "maskIn['arctic_mask'].plot()"
   ]
  },
  {
   "cell_type": "markdown",
   "metadata": {},
   "source": [
    "## Get grid coordinates"
   ]
  },
  {
   "cell_type": "code",
   "execution_count": 25,
   "metadata": {},
   "outputs": [
    {
     "name": "stdout",
     "output_type": "stream",
     "text": [
      "<xarray.DataArray 'lon2d' ()>\n",
      "array(0.07991) <xarray.DataArray 'lon2d' ()>\n",
      "array(359.760284)\n"
     ]
    }
   ],
   "source": [
    "gridFile = r'ease_nh50km_coordinates.nc'\n",
    "grid = xr.open_dataset(os.path.join(diri, gridFile))\n",
    "grid['lat2d'] = grid['lat2d'].where(grid['lat2d'] > -999.)\n",
    "grid['lon2d'] = grid['lon2d'].where(grid['lon2d'] > -999.)\n",
    "grid['lon2d'] = grid['lon2d'].where(grid['lon2d'] > 0., grid['lon2d']+360.)\n",
    "print (grid['lon2d'].min(), grid['lon2d'].max())"
   ]
  },
  {
   "cell_type": "code",
   "execution_count": 26,
   "metadata": {},
   "outputs": [
    {
     "data": {
      "text/plain": [
       "<matplotlib.image.AxesImage at 0xcb8c1d0>"
      ]
     },
     "execution_count": 26,
     "metadata": {},
     "output_type": "execute_result"
    }
   ],
   "source": [
    "plt.imshow(grid['lon2d'])"
   ]
  },
  {
   "cell_type": "code",
   "execution_count": 27,
   "metadata": {},
   "outputs": [],
   "source": [
    "lat = grid['lat2d'].values.reshape(-1)\n",
    "lon = grid['lon2d'].values.reshape(-1)\n",
    "idx = np.where(np.isfinite(lat) & np.isfinite(lon))"
   ]
  },
  {
   "cell_type": "code",
   "execution_count": 34,
   "metadata": {},
   "outputs": [],
   "source": [
    "newMask1D = np.empty(lat.shape)\n",
    "newMask1D[:] = np.nan\n",
    "newMask1D[idx] = maskIn['arctic_mask'].sel(lat=xr.DataArray(lat[idx]), \n",
    "                                              lon=xr.DataArray(lon[idx]), \n",
    "                                              method='nearest').values\n"
   ]
  },
  {
   "cell_type": "code",
   "execution_count": 31,
   "metadata": {},
   "outputs": [
    {
     "data": {
      "text/plain": [
       "<matplotlib.image.AxesImage at 0xc6f84e0>"
      ]
     },
     "execution_count": 31,
     "metadata": {},
     "output_type": "execute_result"
    }
   ],
   "source": [
    "plt.imshow(maskOutArray.reshape(grid['lat2d'].shape))"
   ]
  },
  {
   "cell_type": "code",
   "execution_count": 41,
   "metadata": {},
   "outputs": [
    {
     "data": {
      "text/plain": [
       "<xarray.Dataset>\n",
       "Dimensions:      (x: 360, y: 360)\n",
       "Coordinates:\n",
       "    lat          (x, y) float32 nan nan nan nan nan nan nan nan nan nan nan ...\n",
       "    lon          (x, y) float32 nan nan nan nan nan nan nan nan nan nan nan ...\n",
       "Dimensions without coordinates: x, y\n",
       "Data variables:\n",
       "    arctic_mask  (x, y) float64 nan nan nan nan nan nan nan nan nan nan nan ..."
      ]
     },
     "execution_count": 41,
     "metadata": {},
     "output_type": "execute_result"
    }
   ],
   "source": [
    "newMask = xr.Dataset({'arctic_mask': (['x','y'], newMask1D.reshape(grid['lat2d'].shape))},\n",
    "                     coords = {'lat': (['x','y'], grid['lat2d']),\n",
    "                               'lon': (['x','y'], grid['lon2d'])})\n",
    "newMask"
   ]
  },
  {
   "cell_type": "code",
   "execution_count": null,
   "metadata": {},
   "outputs": [],
   "source": [
    "newMask['arctic_mask'].plot()"
   ]
  },
  {
   "cell_type": "code",
   "execution_count": null,
   "metadata": {},
   "outputs": [],
   "source": []
  }
 ],
 "metadata": {
  "kernelspec": {
   "display_name": "Python 3",
   "language": "python",
   "name": "python3"
  },
  "language_info": {
   "codemirror_mode": {
    "name": "ipython",
    "version": 3
   },
   "file_extension": ".py",
   "mimetype": "text/x-python",
   "name": "python",
   "nbconvert_exporter": "python",
   "pygments_lexer": "ipython3",
   "version": "3.6.4"
  }
 },
 "nbformat": 4,
 "nbformat_minor": 2
}
