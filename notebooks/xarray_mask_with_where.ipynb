{
 "cells": [
  {
   "cell_type": "code",
   "execution_count": 3,
   "metadata": {},
   "outputs": [],
   "source": [
    "import xarray as xr\n",
    "import numpy as np"
   ]
  },
  {
   "cell_type": "code",
   "execution_count": 40,
   "metadata": {},
   "outputs": [],
   "source": [
    "da = xr.DataArray(np.arange(48).reshape(3,4,4), \n",
    "                  coords=[np.arange(0,3), np.arange(0,4), np.arange(0,4)],\n",
    "                  dims=['time','x','y'])"
   ]
  },
  {
   "cell_type": "code",
   "execution_count": 41,
   "metadata": {},
   "outputs": [
    {
     "data": {
      "text/plain": [
       "<xarray.DataArray (time: 3, x: 4, y: 4)>\n",
       "array([[[ 0,  1,  2,  3],\n",
       "        [ 4,  5,  6,  7],\n",
       "        [ 8,  9, 10, 11],\n",
       "        [12, 13, 14, 15]],\n",
       "\n",
       "       [[16, 17, 18, 19],\n",
       "        [20, 21, 22, 23],\n",
       "        [24, 25, 26, 27],\n",
       "        [28, 29, 30, 31]],\n",
       "\n",
       "       [[32, 33, 34, 35],\n",
       "        [36, 37, 38, 39],\n",
       "        [40, 41, 42, 43],\n",
       "        [44, 45, 46, 47]]])\n",
       "Coordinates:\n",
       "  * time     (time) int32 0 1 2\n",
       "  * x        (x) int32 0 1 2 3\n",
       "  * y        (y) int32 0 1 2 3"
      ]
     },
     "execution_count": 41,
     "metadata": {},
     "output_type": "execute_result"
    }
   ],
   "source": [
    "da"
   ]
  },
  {
   "cell_type": "code",
   "execution_count": 39,
   "metadata": {},
   "outputs": [
    {
     "data": {
      "text/plain": [
       "<xarray.DataArray (x: 4, y: 4)>\n",
       "array([[0, 0, 0, 0],\n",
       "       [0, 1, 1, 0],\n",
       "       [0, 1, 1, 0],\n",
       "       [0, 0, 0, 0]])\n",
       "Coordinates:\n",
       "  * x        (x) int32 0 1 2 3\n",
       "  * y        (y) int32 0 1 2 3"
      ]
     },
     "execution_count": 39,
     "metadata": {},
     "output_type": "execute_result"
    }
   ],
   "source": [
    "mask = xr.DataArray([[0,0,0,0],\n",
    "                     [0,1,1,0],\n",
    "                     [0,1,1,0],\n",
    "                     [0,0,0,0]], \n",
    "                    coords=[np.arange(0,4), np.arange(0,4)], \n",
    "                    dims=['x','y']) #.expand_dims('time', axis=0)\n",
    "mask"
   ]
  },
  {
   "cell_type": "code",
   "execution_count": 43,
   "metadata": {},
   "outputs": [
    {
     "data": {
      "text/plain": [
       "<xarray.DataArray (time: 3, x: 4, y: 4)>\n",
       "array([[[nan, nan, nan, nan],\n",
       "        [nan,  5.,  6., nan],\n",
       "        [nan,  9., 10., nan],\n",
       "        [nan, nan, nan, nan]],\n",
       "\n",
       "       [[nan, nan, nan, nan],\n",
       "        [nan, 21., 22., nan],\n",
       "        [nan, 25., 26., nan],\n",
       "        [nan, nan, nan, nan]],\n",
       "\n",
       "       [[nan, nan, nan, nan],\n",
       "        [nan, 37., 38., nan],\n",
       "        [nan, 41., 42., nan],\n",
       "        [nan, nan, nan, nan]]])\n",
       "Coordinates:\n",
       "  * time     (time) int32 0 1 2\n",
       "  * x        (x) int32 0 1 2 3\n",
       "  * y        (y) int32 0 1 2 3"
      ]
     },
     "execution_count": 43,
     "metadata": {},
     "output_type": "execute_result"
    }
   ],
   "source": [
    "da.where(mask)"
   ]
  },
  {
   "cell_type": "code",
   "execution_count": null,
   "metadata": {},
   "outputs": [],
   "source": []
  }
 ],
 "metadata": {
  "kernelspec": {
   "display_name": "Python 3",
   "language": "python",
   "name": "python3"
  },
  "language_info": {
   "codemirror_mode": {
    "name": "ipython",
    "version": 3
   },
   "file_extension": ".py",
   "mimetype": "text/x-python",
   "name": "python",
   "nbconvert_exporter": "python",
   "pygments_lexer": "ipython3",
   "version": "3.6.4"
  }
 },
 "nbformat": 4,
 "nbformat_minor": 2
}
