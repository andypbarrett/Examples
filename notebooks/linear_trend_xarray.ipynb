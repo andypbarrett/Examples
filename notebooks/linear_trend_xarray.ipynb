{
 "cells": [
  {
   "cell_type": "markdown",
   "metadata": {},
   "source": [
    "Calculates linear trend of an xarray object"
   ]
  },
  {
   "cell_type": "code",
   "execution_count": 1,
   "metadata": {
    "collapsed": false
   },
   "outputs": [
    {
     "name": "stdout",
     "output_type": "stream",
     "text": [
      "Populating the interactive namespace from numpy and matplotlib\n"
     ]
    }
   ],
   "source": [
    "%pylab inline"
   ]
  },
  {
   "cell_type": "code",
   "execution_count": 2,
   "metadata": {
    "collapsed": true
   },
   "outputs": [],
   "source": [
    "import numpy as np\n",
    "import xarray as xr"
   ]
  },
  {
   "cell_type": "markdown",
   "metadata": {},
   "source": [
    "Define arrays"
   ]
  },
  {
   "cell_type": "code",
   "execution_count": 11,
   "metadata": {
    "collapsed": false
   },
   "outputs": [
    {
     "data": {
      "text/plain": [
       "<xarray.DataArray (Y: 4, X: 3, time: 37)>\n",
       "array([[[ -3.108821e-01,   2.046072e-01, ...,  -1.036731e+01,  -1.003328e+01],\n",
       "        [ -2.488116e+00,   1.035832e+00, ...,  -1.073412e+01,  -1.097361e+01],\n",
       "        [  1.024798e+00,   6.554364e-01, ...,   4.403282e+01,   4.483783e+01]],\n",
       "\n",
       "       [[  6.638248e-02,  -8.652327e-01, ...,  -1.678830e+01,  -1.862735e+01],\n",
       "        [ -3.029171e-02,   2.506089e-01, ...,   3.804189e+01,   3.884661e+01],\n",
       "        [ -4.822665e-01,  -1.255391e+00, ...,  -4.349730e+01,  -4.842515e+01]],\n",
       "\n",
       "       [[  9.867969e-01,  -3.242344e-01, ...,   3.082338e+01,   3.289411e+01],\n",
       "        [  1.385422e+00,   9.327507e-01, ...,   8.813835e+00,   9.457467e+00],\n",
       "        [  1.310397e+00,   2.925503e+00, ...,   4.387897e+01,   4.641926e+01]],\n",
       "\n",
       "       [[  1.017223e+00,   5.619297e-01, ...,   3.440248e+01,   3.617423e+01],\n",
       "        [ -7.284515e-01,   4.826942e-01, ...,  -1.243424e+01,  -1.333979e+01],\n",
       "        [ -2.383668e-01,  -5.626077e-01, ...,   4.143306e+00,   4.123282e+00]]])\n",
       "Coordinates:\n",
       "  * Y        (Y) int32 0 1 2 3\n",
       "  * X        (X) int32 0 1 2\n",
       "  * time     (time) int32 0 1 2 3 4 5 6 7 8 9 10 11 12 13 14 15 16 17 18 19 ..."
      ]
     },
     "execution_count": 11,
     "metadata": {},
     "output_type": "execute_result"
    }
   ],
   "source": [
    "nt = 37\n",
    "nx = 3\n",
    "ny = 4\n",
    "slope = xr.DataArray(np.random.randn(nx*ny).reshape(ny,nx), \n",
    "                     coords=[np.arange(ny),np.arange(nx)],\n",
    "                     dims=['Y','X'])\n",
    "time = xr.DataArray(np.arange(nt), coords=[np.arange(nt)], dims=['time'])\n",
    "y = slope*time + np.random.randn(nx*ny*nt).reshape(ny,nx,nt)\n",
    "y"
   ]
  },
  {
   "cell_type": "markdown",
   "metadata": {},
   "source": [
    "Define function to calculate trend"
   ]
  },
  {
   "cell_type": "code",
   "execution_count": 44,
   "metadata": {
    "collapsed": true
   },
   "outputs": [],
   "source": [
    "def _linear_trend(x):\n",
    "    import scipy.stats\n",
    "    b1, b0, r, p, se = scipy.stats.linregress(x.time, x)\n",
    "    #return xr.DataArray(b1)\n",
    "    return xr.Dataset({'b1': b1,\n",
    "                       'b0': b0,\n",
    "                       'r': r,\n",
    "                       'p': p,\n",
    "                       'se': se})\n",
    "\n",
    "def xr_trend(da, dim='time'):\n",
    "    if dim not in da.dims:\n",
    "        print ('Not {:s} dimension in DataArray'.format(dim))\n",
    "        return\n",
    "    \n",
    "    stack_dims = [d for d in da.dims if d != dim]\n",
    "    dastack = da.stack(allpoints=stack_dims)\n",
    "    \n",
    "    trend = dastack.groupby('allpoints').apply(_linear_trend)\n",
    "    \n",
    "    print (trend)\n",
    "    \n",
    "    return trend.unstack('allpoints')"
   ]
  },
  {
   "cell_type": "code",
   "execution_count": 46,
   "metadata": {
    "collapsed": false
   },
   "outputs": [
    {
     "name": "stdout",
     "output_type": "stream",
     "text": [
      "<xarray.Dataset>\n",
      "Dimensions:    (allpoints: 12)\n",
      "Coordinates:\n",
      "  * allpoints  (allpoints) MultiIndex\n",
      "  - Y          (allpoints) int64 0 0 0 1 1 1 2 2 2 3 3 3\n",
      "  - X          (allpoints) int64 0 1 2 0 1 2 0 1 2 0 1 2\n",
      "Data variables:\n",
      "    p          (allpoints) float64 3.369e-20 4.908e-20 2.633e-41 2.339e-30 ...\n",
      "    r          (allpoints) float64 -0.9559 -0.9549 0.9973 -0.9886 0.9968 ...\n",
      "    b0         (allpoints) float64 0.2402 -0.2279 0.5718 -0.2894 0.1353 ...\n",
      "    b1         (allpoints) float64 -0.2781 -0.3258 1.249 -0.4681 1.098 ...\n",
      "    se         (allpoints) float64 0.01445 0.01712 0.01553 0.01207 0.01487 ...\n",
      "<xarray.DataArray 'b1' (Y: 4, X: 3)>\n",
      "array([[-0.278051, -0.325752,  1.249013],\n",
      "       [-0.468133,  1.098138, -1.293319],\n",
      "       [ 0.900088,  0.220532,  1.283879],\n",
      "       [ 0.978904, -0.365628,  0.143876]])\n",
      "Coordinates:\n",
      "  * Y        (Y) int64 0 1 2 3\n",
      "  * X        (X) int64 0 1 2\n",
      "<xarray.DataArray (Y: 4, X: 3)>\n",
      "array([[-0.255492, -0.311051,  1.274854],\n",
      "       [-0.466403,  1.105203, -1.28986 ],\n",
      "       [ 0.904573,  0.245681,  1.308893],\n",
      "       [ 0.980732, -0.365718,  0.148478]])\n",
      "Coordinates:\n",
      "  * Y        (Y) int32 0 1 2 3\n",
      "  * X        (X) int32 0 1 2\n"
     ]
    }
   ],
   "source": [
    "trend = xr_trend(y)\n",
    "print trend.b1\n",
    "print slope"
   ]
  },
  {
   "cell_type": "code",
   "execution_count": 49,
   "metadata": {
    "collapsed": false,
    "scrolled": true
   },
   "outputs": [
    {
     "data": {
      "text/plain": [
       "[<matplotlib.lines.Line2D at 0xb540a20>]"
      ]
     },
     "execution_count": 49,
     "metadata": {},
     "output_type": "execute_result"
    },
    {
     "data": {
      "image/png": "[encoded data removed]",
      "text/plain": [
       "<matplotlib.figure.Figure at 0xb52d860>"
      ]
     },
     "metadata": {},
     "output_type": "display_data"
    }
   ],
   "source": [
    "y[0,0,:].plot.line('-o')"
   ]
  },
  {
   "cell_type": "markdown",
   "metadata": {},
   "source": [
    "## Calculate Covariance"
   ]
  },
  {
   "cell_type": "code",
   "execution_count": 62,
   "metadata": {
    "collapsed": false
   },
   "outputs": [
    {
     "data": {
      "text/plain": [
       "<xarray.DataArray (Y: 4, X: 3)>\n",
       "array([[ -31.697791,  -37.135743,  142.387537],\n",
       "       [ -53.367122,  125.187711, -147.438367],\n",
       "       [ 102.609982,   25.140643,  146.362232],\n",
       "       [ 111.595052,  -41.681609,   16.401886]])\n",
       "Coordinates:\n",
       "  * Y        (Y) int32 0 1 2 3\n",
       "  * X        (X) int32 0 1 2"
      ]
     },
     "execution_count": 62,
     "metadata": {},
     "output_type": "execute_result"
    }
   ],
   "source": [
    "# Calculate covariance\n",
    "yanom = (y - y.mean())\n",
    "tanom = (y.time - y.time.mean())\n",
    "cov = (yanom * tanom).mean(dim='time')"
   ]
  },
  {
   "cell_type": "markdown",
   "metadata": {},
   "source": [
    "## Calculate correlation"
   ]
  },
  {
   "cell_type": "code",
   "execution_count": 64,
   "metadata": {
    "collapsed": false
   },
   "outputs": [],
   "source": [
    "corr = cov / y.std(dim='time') / y.time.std()"
   ]
  },
  {
   "cell_type": "markdown",
   "metadata": {},
   "source": [
    "## Calculate regression coeficient and constant"
   ]
  },
  {
   "cell_type": "code",
   "execution_count": 67,
   "metadata": {
    "collapsed": false
   },
   "outputs": [
    {
     "name": "stdout",
     "output_type": "stream",
     "text": [
      "<xarray.DataArray (Y: 4, X: 3)>\n",
      "array([[-0.278051, -0.325752,  1.249013],\n",
      "       [-0.468133,  1.098138, -1.293319],\n",
      "       [ 0.900088,  0.220532,  1.283879],\n",
      "       [ 0.978904, -0.365628,  0.143876]])\n",
      "Coordinates:\n",
      "  * Y        (Y) int32 0 1 2 3\n",
      "  * X        (X) int32 0 1 2\n",
      "<xarray.DataArray (Y: 4, X: 3)>\n",
      "array([[ 0.240232, -0.227878,  0.571797],\n",
      "       [-0.289439,  0.135321,  0.006436],\n",
      "       [ 0.068033,  0.355675,  0.418834],\n",
      "       [ 0.220607, -0.18007 , -0.199858]])\n",
      "Coordinates:\n",
      "  * Y        (Y) int32 0 1 2 3\n",
      "  * X        (X) int32 0 1 2\n",
      "<xarray.DataArray (Y: 4, X: 3)>\n",
      "array([[-0.255492, -0.311051,  1.274854],\n",
      "       [-0.466403,  1.105203, -1.28986 ],\n",
      "       [ 0.904573,  0.245681,  1.308893],\n",
      "       [ 0.980732, -0.365718,  0.148478]])\n",
      "Coordinates:\n",
      "  * Y        (Y) int32 0 1 2 3\n",
      "  * X        (X) int32 0 1 2\n"
     ]
    }
   ],
   "source": [
    "beta = corr * y.std(dim='time') / y.time.std()\n",
    "alpha = y.mean(dim='time') - beta * y.time.mean()\n",
    "print (beta)\n",
    "print (alpha)\n",
    "print (slope)"
   ]
  },
  {
   "cell_type": "code",
   "execution_count": 68,
   "metadata": {
    "collapsed": true
   },
   "outputs": [],
   "source": [
    "yhat = alpha + beta*y.time"
   ]
  },
  {
   "cell_type": "code",
   "execution_count": 73,
   "metadata": {
    "collapsed": true
   },
   "outputs": [],
   "source": [
    "sse = ((y - yhat)**2).sum(dim='time')\n",
    "ssy = ((y - y.mean(dim='time'))**2).sum(dim='time')\n",
    "r2 = 1. - sse/ssy"
   ]
  },
  {
   "cell_type": "code",
   "execution_count": 74,
   "metadata": {
    "collapsed": false
   },
   "outputs": [
    {
     "data": {
      "text/plain": [
       "<xarray.DataArray (Y: 4, X: 3)>\n",
       "array([[ 0.913677,  0.911806,  0.994617],\n",
       "       [ 0.977279,  0.993627,  0.995761],\n",
       "       [ 0.98867 ,  0.848594,  0.99599 ],\n",
       "       [ 0.991428,  0.951334,  0.700161]])\n",
       "Coordinates:\n",
       "  * Y        (Y) int32 0 1 2 3\n",
       "  * X        (X) int32 0 1 2"
      ]
     },
     "execution_count": 74,
     "metadata": {},
     "output_type": "execute_result"
    }
   ],
   "source": [
    "r2"
   ]
  },
  {
   "cell_type": "code",
   "execution_count": null,
   "metadata": {
    "collapsed": true
   },
   "outputs": [],
   "source": []
  }
 ],
 "metadata": {
  "kernelspec": {
   "display_name": "Python 2",
   "language": "python",
   "name": "python2"
  },
  "language_info": {
   "codemirror_mode": {
    "name": "ipython",
    "version": 2
   },
   "file_extension": ".py",
   "mimetype": "text/x-python",
   "name": "python",
   "nbconvert_exporter": "python",
   "pygments_lexer": "ipython2",
   "version": "2.7.13"
  }
 },
 "nbformat": 4,
 "nbformat_minor": 2
}
