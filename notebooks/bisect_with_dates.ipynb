{
 "cells": [
  {
   "cell_type": "code",
   "execution_count": 19,
   "metadata": {},
   "outputs": [],
   "source": [
    "import bisect\n",
    "\n",
    "import datetime as dt\n",
    "import pandas as pd"
   ]
  },
  {
   "cell_type": "code",
   "execution_count": 13,
   "metadata": {},
   "outputs": [],
   "source": [
    "def nearest_index(a, x):\n",
    "    \"\"\"Returns the index of the rightmost value of a less than or equal to x\"\"\"\n",
    "    # To deal with values less than the first element\n",
    "    if x < a[0]:\n",
    "        return -1\n",
    "    i = bisect.bisect_right(a, x)\n",
    "    if i:\n",
    "        return i-1\n",
    "    raise ValueError"
   ]
  },
  {
   "cell_type": "code",
   "execution_count": 14,
   "metadata": {},
   "outputs": [],
   "source": [
    "a = [1., 3.4, 5.1, 7.]"
   ]
  },
  {
   "cell_type": "code",
   "execution_count": 17,
   "metadata": {},
   "outputs": [
    {
     "data": {
      "text/plain": [
       "-1"
      ]
     },
     "execution_count": 17,
     "metadata": {},
     "output_type": "execute_result"
    }
   ],
   "source": [
    "nearest_index(a, 0)"
   ]
  },
  {
   "cell_type": "code",
   "execution_count": 20,
   "metadata": {},
   "outputs": [],
   "source": [
    "dates = [dt.datetime(1979,1,3,4), \n",
    "         dt.datetime(1979,1,4,7), \n",
    "         dt.datetime(1979,1,6,11),\n",
    "         dt.datetime(1979,1,9,20),\n",
    "        ]"
   ]
  },
  {
   "cell_type": "code",
   "execution_count": 23,
   "metadata": {},
   "outputs": [
    {
     "name": "stdout",
     "output_type": "stream",
     "text": [
      "1979-01-01 12:00:00  -1  1979-01-03 04:00:00\n",
      "1979-01-02 12:00:00  -1  1979-01-03 04:00:00\n",
      "1979-01-03 12:00:00   0  1979-01-03 04:00:00\n",
      "1979-01-04 12:00:00   1  1979-01-04 07:00:00\n",
      "1979-01-05 12:00:00   1  1979-01-04 07:00:00\n",
      "1979-01-06 12:00:00   2  1979-01-06 11:00:00\n",
      "1979-01-07 12:00:00   2  1979-01-06 11:00:00\n",
      "1979-01-08 12:00:00   2  1979-01-06 11:00:00\n",
      "1979-01-09 12:00:00   2  1979-01-06 11:00:00\n",
      "1979-01-10 12:00:00   3  1979-01-09 20:00:00\n"
     ]
    }
   ],
   "source": [
    "for this_date in pd.date_range('1979-01-01 12', '1979-01-10 12', freq='D'):\n",
    "    idx = nearest_index(dates, this_date)\n",
    "    if idx < 0:\n",
    "        print (f'{this_date}  {idx:2d}  {dates[0]}')\n",
    "    else:\n",
    "        print (f'{this_date}  {idx:2d}  {dates[idx]}')"
   ]
  },
  {
   "cell_type": "code",
   "execution_count": null,
   "metadata": {},
   "outputs": [],
   "source": []
  }
 ],
 "metadata": {
  "kernelspec": {
   "display_name": "Python 3",
   "language": "python",
   "name": "python3"
  },
  "language_info": {
   "codemirror_mode": {
    "name": "ipython",
    "version": 3
   },
   "file_extension": ".py",
   "mimetype": "text/x-python",
   "name": "python",
   "nbconvert_exporter": "python",
   "pygments_lexer": "ipython3",
   "version": "3.7.3"
  }
 },
 "nbformat": 4,
 "nbformat_minor": 2
}
