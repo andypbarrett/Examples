{
 "cells": [
  {
   "cell_type": "code",
   "execution_count": 1,
   "metadata": {
    "collapsed": false
   },
   "outputs": [
    {
     "name": "stdout",
     "output_type": "stream",
     "text": [
      "Populating the interactive namespace from numpy and matplotlib\n"
     ]
    }
   ],
   "source": [
    "%pylab inline"
   ]
  },
  {
   "cell_type": "code",
   "execution_count": 2,
   "metadata": {
    "collapsed": true
   },
   "outputs": [],
   "source": [
    "import xarray as xr\n",
    "import numpy as np\n",
    "import os"
   ]
  },
  {
   "cell_type": "code",
   "execution_count": 3,
   "metadata": {
    "collapsed": false
   },
   "outputs": [],
   "source": [
    "var = xr.DataArray(np.arange(9.).reshape(3,3), coords=[np.arange(3.), np.arange(3.)], dims=['x','y'],\n",
    "                  name='variable')\n",
    "var.attrs = {'long_name': 'variable', 'units': 'mm'}"
   ]
  },
  {
   "cell_type": "code",
   "execution_count": 9,
   "metadata": {
    "collapsed": false
   },
   "outputs": [],
   "source": [
    "var.to_netcdf('variable.nc', mode='w', encoding={var.name: {'_FillValue': -999.9}})"
   ]
  },
  {
   "cell_type": "code",
   "execution_count": 12,
   "metadata": {
    "collapsed": false
   },
   "outputs": [
    {
     "name": "stdout",
     "output_type": "stream",
     "text": [
      "OrderedDict([(u'units', u'mm'), (u'long_name', u'variable')])\n",
      "<xarray.Dataset>\n",
      "Dimensions:   (x: 3, y: 3)\n",
      "Coordinates:\n",
      "  * x         (x) float64 0.0 1.0 2.0\n",
      "  * y         (y) float64 0.0 1.0 2.0\n",
      "Data variables:\n",
      "    variable  (x, y) float64 0.0 1.0 2.0 3.0 4.0 5.0 6.0 7.0 8.0\n"
     ]
    }
   ],
   "source": [
    "invar = xr.open_dataset('variable.nc')\n",
    "print invar['variable'].attrs\n",
    "print invar\n",
    "invar.close()"
   ]
  },
  {
   "cell_type": "code",
   "execution_count": null,
   "metadata": {
    "collapsed": false
   },
   "outputs": [],
   "source": [
    "\n"
   ]
  },
  {
   "cell_type": "code",
   "execution_count": null,
   "metadata": {
    "collapsed": true
   },
   "outputs": [],
   "source": []
  }
 ],
 "metadata": {
  "kernelspec": {
   "display_name": "Python 2",
   "language": "python",
   "name": "python2"
  },
  "language_info": {
   "codemirror_mode": {
    "name": "ipython",
    "version": 2
   },
   "file_extension": ".py",
   "mimetype": "text/x-python",
   "name": "python",
   "nbconvert_exporter": "python",
   "pygments_lexer": "ipython2",
   "version": "2.7.13"
  }
 },
 "nbformat": 4,
 "nbformat_minor": 2
}
